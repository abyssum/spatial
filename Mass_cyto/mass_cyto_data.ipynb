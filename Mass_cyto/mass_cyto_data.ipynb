{
 "cells": [
  {
   "cell_type": "code",
   "execution_count": null,
   "id": "c7b35f26-d087-4853-9b5a-f9a263214e8e",
   "metadata": {},
   "outputs": [],
   "source": [
    "%matplotlib inline"
   ]
  },
  {
   "cell_type": "code",
   "execution_count": null,
   "id": "0bc6d0b3-aa9a-4027-956f-0393818d9073",
   "metadata": {},
   "outputs": [],
   "source": [
    "import squidpy as sq\n",
    "\n",
    "print(f\"squidpy=={sq.__version__}\")\n",
    "\n",
    "# load the pre-processed dataset\n",
    "adata = sq.datasets.imc()"
   ]
  },
  {
   "cell_type": "code",
   "execution_count": null,
   "id": "5a4454ee-575b-49e6-b4c7-50623ee91f50",
   "metadata": {},
   "outputs": [],
   "source": [
    "sq.pl.spatial_scatter(adata, shape=None, color=\"cell type\", size=10)"
   ]
  },
  {
   "cell_type": "code",
   "execution_count": null,
   "id": "1b2654d4-471e-4fe2-8561-17d1428b2beb",
   "metadata": {},
   "outputs": [],
   "source": [
    "sq.gr.co_occurrence(adata, cluster_key=\"cell type\")\n",
    "sq.pl.co_occurrence(\n",
    "    adata,\n",
    "    cluster_key=\"cell type\",\n",
    "    clusters=[\"basal CK tumor cell\", \"T cells\"],\n",
    "    figsize=(15, 4),\n",
    ")"
   ]
  },
  {
   "cell_type": "code",
   "execution_count": null,
   "id": "5c2ac96a-6879-4bd1-b0e4-ae6493ac70c6",
   "metadata": {},
   "outputs": [],
   "source": [
    "# Neighborhood enrichment"
   ]
  },
  {
   "cell_type": "code",
   "execution_count": null,
   "id": "7e314120-94c6-4376-9b01-368291436514",
   "metadata": {},
   "outputs": [],
   "source": [
    "sq.gr.spatial_neighbors(adata)\n",
    "sq.gr.nhood_enrichment(adata, cluster_key=\"cell type\")\n",
    "sq.pl.nhood_enrichment(adata, cluster_key=\"cell type\")"
   ]
  },
  {
   "cell_type": "code",
   "execution_count": null,
   "id": "177ade71-1605-43d6-a851-8ad9248ed91a",
   "metadata": {},
   "outputs": [],
   "source": [
    "sq.gr.interaction_matrix(adata, cluster_key=\"cell type\")\n",
    "sq.pl.interaction_matrix(adata, cluster_key=\"cell type\")"
   ]
  },
  {
   "cell_type": "code",
   "execution_count": null,
   "id": "1e5c2720-fc6a-4073-8ed7-ae4dfe193f69",
   "metadata": {},
   "outputs": [],
   "source": [
    "sq.gr.centrality_scores(\n",
    "    adata,\n",
    "    cluster_key=\"cell type\",\n",
    ")\n",
    "sq.pl.centrality_scores(adata, cluster_key=\"cell type\", figsize=(20, 5), s=500)"
   ]
  },
  {
   "cell_type": "code",
   "execution_count": null,
   "id": "a33d6103-74fd-442e-8c68-4718ef2afac7",
   "metadata": {},
   "outputs": [],
   "source": []
  }
 ],
 "metadata": {
  "kernelspec": {
   "display_name": "Python 3 (ipykernel)",
   "language": "python",
   "name": "python3"
  },
  "language_info": {
   "codemirror_mode": {
    "name": "ipython",
    "version": 3
   },
   "file_extension": ".py",
   "mimetype": "text/x-python",
   "name": "python",
   "nbconvert_exporter": "python",
   "pygments_lexer": "ipython3",
   "version": "3.11.9"
  }
 },
 "nbformat": 4,
 "nbformat_minor": 5
}
