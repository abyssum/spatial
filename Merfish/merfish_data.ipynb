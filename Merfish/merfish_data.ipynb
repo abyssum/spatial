{
 "cells": [
  {
   "cell_type": "code",
   "execution_count": 1,
   "id": "bf12e757-527f-4ee9-8efb-d538fca4e9a8",
   "metadata": {},
   "outputs": [
    {
     "ename": "ModuleNotFoundError",
     "evalue": "No module named 'squidpy'",
     "output_type": "error",
     "traceback": [
      "\u001b[0;31m---------------------------------------------------------------------------\u001b[0m",
      "\u001b[0;31mModuleNotFoundError\u001b[0m                       Traceback (most recent call last)",
      "Cell \u001b[0;32mIn[1], line 1\u001b[0m\n\u001b[0;32m----> 1\u001b[0m \u001b[38;5;28;01mimport\u001b[39;00m \u001b[38;5;21;01msquidpy\u001b[39;00m\n",
      "\u001b[0;31mModuleNotFoundError\u001b[0m: No module named 'squidpy'"
     ]
    }
   ],
   "source": [
    "import scanpy as sc\n",
    "import squidpy as sq\n",
    "\n",
    "sc.logging.print_header()\n",
    "print(f\"squidpy=={sq.__version__}\")\n",
    "\n"
   ]
  },
  {
   "cell_type": "code",
   "execution_count": null,
   "id": "4a8480fb-4e35-4ecb-adc3-d27a07f6357d",
   "metadata": {},
   "outputs": [],
   "source": [
    "# load the pre-processed dataset\n",
    "adata = sq.datasets.merfish()\n",
    "adata"
   ]
  },
  {
   "cell_type": "code",
   "execution_count": null,
   "id": "fbeb1f65-ecf0-4769-94da-527a87fdc2cd",
   "metadata": {},
   "outputs": [],
   "source": [
    "sc.pl.embedding(adata, basis=\"spatial3d\", projection=\"3d\", color=\"Cell_class\")"
   ]
  },
  {
   "cell_type": "code",
   "execution_count": null,
   "id": "dede19d8-7c4d-4ec5-aaff-dadafa00dc87",
   "metadata": {},
   "outputs": [],
   "source": [
    "sq.pl.spatial_scatter(\n",
    "    adata[adata.obs.Bregma == -9], shape=None, color=\"Cell_class\", size=1\n",
    ")"
   ]
  }
 ],
 "metadata": {
  "kernelspec": {
   "display_name": "scvelo_test",
   "language": "python",
   "name": "scvelo_test"
  },
  "language_info": {
   "codemirror_mode": {
    "name": "ipython",
    "version": 3
   },
   "file_extension": ".py",
   "mimetype": "text/x-python",
   "name": "python",
   "nbconvert_exporter": "python",
   "pygments_lexer": "ipython3",
   "version": "3.10.13"
  }
 },
 "nbformat": 4,
 "nbformat_minor": 5
}
