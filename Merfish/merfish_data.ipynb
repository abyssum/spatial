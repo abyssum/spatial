{
 "cells": [
  {
   "cell_type": "code",
   "execution_count": 1,
   "id": "bf12e757-527f-4ee9-8efb-d538fca4e9a8",
   "metadata": {},
   "outputs": [
    {
     "ename": "ModuleNotFoundError",
     "evalue": "No module named 'squidpy'",
     "output_type": "error",
     "traceback": [
      "\u001b[0;31m---------------------------------------------------------------------------\u001b[0m",
      "\u001b[0;31mModuleNotFoundError\u001b[0m                       Traceback (most recent call last)",
      "Cell \u001b[0;32mIn[1], line 1\u001b[0m\n\u001b[0;32m----> 1\u001b[0m \u001b[38;5;28;01mimport\u001b[39;00m \u001b[38;5;21;01msquidpy\u001b[39;00m\n",
      "\u001b[0;31mModuleNotFoundError\u001b[0m: No module named 'squidpy'"
     ]
    }
   ],
   "source": [
    "import scanpy as sc\n",
    "import squidpy as sq\n",
    "\n",
    "sc.logging.print_header()\n",
    "print(f\"squidpy=={sq.__version__}\")\n",
    "\n"
   ]
  },
  {
   "cell_type": "code",
   "execution_count": null,
   "id": "4a8480fb-4e35-4ecb-adc3-d27a07f6357d",
   "metadata": {},
   "outputs": [],
   "source": [
    "# load the pre-processed dataset\n",
    "adata = sq.datasets.merfish()\n",
    "adata"
   ]
  },
  {
   "cell_type": "code",
   "execution_count": null,
   "id": "fbeb1f65-ecf0-4769-94da-527a87fdc2cd",
   "metadata": {},
   "outputs": [],
   "source": [
    "sc.pl.embedding(adata, basis=\"spatial3d\", projection=\"3d\", color=\"Cell_class\")"
   ]
  },
  {
   "cell_type": "code",
   "execution_count": null,
   "id": "dede19d8-7c4d-4ec5-aaff-dadafa00dc87",
   "metadata": {},
   "outputs": [],
   "source": [
    "sq.pl.spatial_scatter(\n",
    "    adata[adata.obs.Bregma == -9], shape=None, color=\"Cell_class\", size=1\n",
    ")"
   ]
  },
  {
   "cell_type": "code",
   "execution_count": null,
   "id": "3f75f774-01e5-4725-9117-24f906040721",
   "metadata": {},
   "outputs": [],
   "source": [
    "sq.gr.spatial_neighbors(adata, coord_type=\"generic\", spatial_key=\"spatial3d\")\n",
    "sq.gr.nhood_enrichment(adata, cluster_key=\"Cell_class\")\n",
    "sq.pl.nhood_enrichment(\n",
    "    adata, cluster_key=\"Cell_class\", method=\"single\", cmap=\"inferno\", vmin=-50, vmax=100\n",
    ")"
   ]
  },
  {
   "cell_type": "code",
   "execution_count": null,
   "id": "4c9b9ca8-4743-4975-b6ac-f6e53b2416a7",
   "metadata": {},
   "outputs": [],
   "source": [
    "sc.pl.embedding(\n",
    "    adata,\n",
    "    basis=\"spatial3d\",\n",
    "    groups=[\"OD Mature 1\", \"OD Mature 2\", \"OD Mature 4\"],\n",
    "    na_color=(1, 1, 1, 0),\n",
    "    projection=\"3d\",\n",
    "    color=\"Cell_class\",\n",
    ")\n"
   ]
  },
  {
   "cell_type": "code",
   "execution_count": null,
   "id": "20969393-68db-4fec-b509-a5b8847eb49e",
   "metadata": {},
   "outputs": [],
   "source": [
    "sc.tl.rank_genes_groups(adata, groupby=\"Cell_class\")\n",
    "sc.pl.rank_genes_groups(adata, groupby=\"Cell_class\")"
   ]
  },
  {
   "cell_type": "code",
   "execution_count": null,
   "id": "a27e2b30-c111-4796-8038-890f54f82d1e",
   "metadata": {},
   "outputs": [],
   "source": [
    "sc.pl.embedding(adata, basis=\"spatial3d\", projection=\"3d\", color=[\"Gad1\", \"Mlc1\"])"
   ]
  },
  {
   "cell_type": "code",
   "execution_count": null,
   "id": "46840976-31c1-48b8-b259-9ab86e7a1a0b",
   "metadata": {},
   "outputs": [],
   "source": [
    "adata_slice = adata[adata.obs.Bregma == -9].copy()\n",
    "sq.gr.spatial_neighbors(adata_slice, coord_type=\"generic\")\n",
    "sq.gr.nhood_enrichment(adata, cluster_key=\"Cell_class\")\n",
    "sq.pl.spatial_scatter(\n",
    "    adata_slice,\n",
    "    color=\"Cell_class\",\n",
    "    shape=None,\n",
    "    groups=[\n",
    "        \"Ependymal\",\n",
    "        \"Pericytes\",\n",
    "        \"Endothelial 2\",\n",
    "    ],\n",
    "    size=10,\n",
    ")"
   ]
  },
  {
   "cell_type": "code",
   "execution_count": null,
   "id": "0455ad67-0579-4e99-9a1f-8328a7dc4363",
   "metadata": {},
   "outputs": [],
   "source": []
  }
 ],
 "metadata": {
  "kernelspec": {
   "display_name": "scvelo_test",
   "language": "python",
   "name": "scvelo_test"
  },
  "language_info": {
   "codemirror_mode": {
    "name": "ipython",
    "version": 3
   },
   "file_extension": ".py",
   "mimetype": "text/x-python",
   "name": "python",
   "nbconvert_exporter": "python",
   "pygments_lexer": "ipython3",
   "version": "3.10.13"
  }
 },
 "nbformat": 4,
 "nbformat_minor": 5
}
