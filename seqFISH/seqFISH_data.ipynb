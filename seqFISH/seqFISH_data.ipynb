{
 "cells": [
  {
   "cell_type": "code",
   "execution_count": null,
   "id": "0d9546ad-1fc3-4859-a7cb-e50cf8d2d0b7",
   "metadata": {},
   "outputs": [],
   "source": [
    "%matplotlib inline"
   ]
  },
  {
   "cell_type": "code",
   "execution_count": null,
   "id": "9e86cffe-0344-49c8-b2d8-13c6b80bd4ce",
   "metadata": {},
   "outputs": [],
   "source": [
    "# Import packages & data"
   ]
  },
  {
   "cell_type": "code",
   "execution_count": null,
   "id": "6f7a500f-7756-4c37-ab97-645587525571",
   "metadata": {},
   "outputs": [],
   "source": [
    "import numpy as np\n",
    "\n",
    "import scanpy as sc\n",
    "import squidpy as sq\n",
    "\n",
    "sc.logging.print_header()\n",
    "print(f\"squidpy=={sq.__version__}\")\n",
    "\n",
    "# load the pre-processed dataset\n",
    "adata = sq.datasets.seqfish()"
   ]
  },
  {
   "cell_type": "code",
   "execution_count": null,
   "id": "e210185c-eff6-449c-87d8-999f0019d5f5",
   "metadata": {},
   "outputs": [],
   "source": [
    "sq.pl.spatial_scatter(\n",
    "    adata, color=\"celltype_mapped_refined\", shape=None, figsize=(10, 10)\n",
    ")"
   ]
  },
  {
   "cell_type": "code",
   "execution_count": null,
   "id": "d1aa11b1-ad3e-4427-bcc4-b646e6d053ca",
   "metadata": {},
   "outputs": [],
   "source": [
    "# Neighborhood enrichment analysis"
   ]
  },
  {
   "cell_type": "code",
   "execution_count": null,
   "id": "805bf71d-1338-4955-b13f-fbfc36b267b0",
   "metadata": {},
   "outputs": [],
   "source": [
    "sq.gr.spatial_neighbors(adata, coord_type=\"generic\")\n",
    "sq.gr.nhood_enrichment(adata, cluster_key=\"celltype_mapped_refined\")\n",
    "sq.pl.nhood_enrichment(adata, cluster_key=\"celltype_mapped_refined\", method=\"ward\")sq.gr.spatial_neighbors(adata, coord_type=\"generic\")\n",
    "sq.gr.nhood_enrichment(adata, cluster_key=\"celltype_mapped_refined\")\n",
    "sq.pl.nhood_enrichment(adata, cluster_key=\"celltype_mapped_refined\", method=\"ward\")"
   ]
  },
  {
   "cell_type": "code",
   "execution_count": null,
   "id": "4ed722ad-c8de-43bd-b131-109b4786f51c",
   "metadata": {},
   "outputs": [],
   "source": [
    "sq.pl.spatial_scatter(\n",
    "    adata,\n",
    "    color=\"celltype_mapped_refined\",\n",
    "    groups=[\n",
    "        \"Endothelium\",\n",
    "        \"Haematoendothelial progenitors\",\n",
    "        \"Allantois\",\n",
    "        \"Lateral plate mesoderm\",\n",
    "        \"Intermediate mesoderm\",\n",
    "        \"Presomitic mesoderm\",\n",
    "    ],\n",
    "    shape=None,\n",
    "    size=2,\n",
    ")"
   ]
  },
  {
   "cell_type": "code",
   "execution_count": null,
   "id": "52c3b115-5c21-4a47-ab0c-92d0f3ca0906",
   "metadata": {},
   "outputs": [],
   "source": [
    "# Co-occurrence across spatial dimensions"
   ]
  },
  {
   "cell_type": "code",
   "execution_count": null,
   "id": "1a58aed3-c894-4d74-aa27-50fd9b6ae117",
   "metadata": {},
   "outputs": [],
   "source": [
    "sq.gr.co_occurrence(adata, cluster_key=\"celltype_mapped_refined\")\n",
    "sq.pl.co_occurrence(\n",
    "    adata,\n",
    "    cluster_key=\"celltype_mapped_refined\",\n",
    "    clusters=\"Lateral plate mesoderm\",\n",
    "    figsize=(10, 5),\n",
    ")"
   ]
  },
  {
   "cell_type": "code",
   "execution_count": null,
   "id": "654450f1-0a71-45ae-9616-9d2322e5bbb2",
   "metadata": {},
   "outputs": [],
   "source": []
  },
  {
   "cell_type": "code",
   "execution_count": null,
   "id": "f4cba87a-fda1-42d9-8ea2-ecfe88d3fb30",
   "metadata": {},
   "outputs": [],
   "source": []
  }
 ],
 "metadata": {
  "kernelspec": {
   "display_name": "Python 3 (ipykernel)",
   "language": "python",
   "name": "python3"
  },
  "language_info": {
   "codemirror_mode": {
    "name": "ipython",
    "version": 3
   },
   "file_extension": ".py",
   "mimetype": "text/x-python",
   "name": "python",
   "nbconvert_exporter": "python",
   "pygments_lexer": "ipython3",
   "version": "3.11.8"
  }
 },
 "nbformat": 4,
 "nbformat_minor": 5
}
