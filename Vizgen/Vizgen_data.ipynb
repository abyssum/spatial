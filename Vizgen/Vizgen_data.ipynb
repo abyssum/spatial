{
 "cells": [
  {
   "cell_type": "code",
   "execution_count": null,
   "id": "6150976c-4de8-407c-bfc8-58e81016b390",
   "metadata": {},
   "outputs": [],
   "source": [
    "from pathlib import Path\n",
    "\n",
    "import numpy as np\n",
    "import pandas as pd\n",
    "\n",
    "import matplotlib.pyplot as plt\n",
    "import seaborn as sns\n",
    "\n",
    "import scanpy as sc\n",
    "import squidpy as sq\n",
    "\n",
    "sc.logging.print_header()"
   ]
  },
  {
   "cell_type": "code",
   "execution_count": null,
   "id": "a725a802-12d2-4cd4-9ac8-b97d76ae8cfd",
   "metadata": {},
   "outputs": [],
   "source": [
    "# # # Download and unpack the Vizgen data\n",
    "# !mkdir tutorial_data\n",
    "# !mkdir tutorial_data/vizgen_data\n",
    "# !mkdir tutorial_data/vizgen_data/images"
   ]
  },
  {
   "cell_type": "code",
   "execution_count": null,
   "id": "0d71a331-c05a-444d-99c6-923f4bfc429a",
   "metadata": {},
   "outputs": [],
   "source": [
    "vizgen_dir = Path().resolve() / \"tutorial_data\" / \"vizgen_data\"\n",
    "\n",
    "adata = sq.read.vizgen(\n",
    "    path=vizgen_dir,\n",
    "    counts_file=\"datasets_mouse_brain_map_BrainReceptorShowcase_Slice1_Replicate1_cell_by_gene_S1R1.csv\",\n",
    "    meta_file=\"datasets_mouse_brain_map_BrainReceptorShowcase_Slice1_Replicate1_cell_metadata_S1R1.csv\",\n",
    "    transformation_file=\"datasets_mouse_brain_map_BrainReceptorShowcase_Slice1_Replicate1_images_micron_to_mosaic_pixel_transform.csv\",\n",
    ")"
   ]
  },
  {
   "cell_type": "code",
   "execution_count": null,
   "id": "1271f2d8-e0b3-46f1-ac94-668f53b38444",
   "metadata": {},
   "outputs": [],
   "source": [
    "# Calculate quality control metrics"
   ]
  },
  {
   "cell_type": "code",
   "execution_count": null,
   "id": "4269e4a9-44cf-4e31-a3fe-2b0574443f33",
   "metadata": {},
   "outputs": [],
   "source": [
    "sc.pp.calculate_qc_metrics(adata, percent_top=(50, 100, 200, 300), inplace=True)"
   ]
  },
  {
   "cell_type": "code",
   "execution_count": null,
   "id": "7a3f5635-bbb5-48d9-9d80-6e3e765d7001",
   "metadata": {},
   "outputs": [],
   "source": [
    "adata.obsm[\"blank_genes\"].to_numpy().sum() / adata.var[\"total_counts\"].sum() * 100"
   ]
  },
  {
   "cell_type": "code",
   "execution_count": null,
   "id": "f8a887da-da90-4ce5-8504-0237fcc6421f",
   "metadata": {},
   "outputs": [],
   "source": [
    "fig, axs = plt.subplots(1, 4, figsize=(15, 4))\n",
    "\n",
    "axs[0].set_title(\"Total transcripts per cell\")\n",
    "sns.histplot(\n",
    "    adata.obs[\"total_counts\"],\n",
    "    kde=False,\n",
    "    ax=axs[0],\n",
    ")\n",
    "\n",
    "axs[1].set_title(\"Unique transcripts per cell\")\n",
    "sns.histplot(\n",
    "    adata.obs[\"n_genes_by_counts\"],\n",
    "    kde=False,\n",
    "    ax=axs[1],\n",
    ")\n",
    "\n",
    "axs[2].set_title(\"Transcripts per FOV\")\n",
    "sns.histplot(\n",
    "    adata.obs.groupby(\"fov\").sum()[\"total_counts\"],\n",
    "    kde=False,\n",
    "    ax=axs[2],\n",
    ")\n",
    "\n",
    "axs[3].set_title(\"Volume of segmented cells\")\n",
    "sns.histplot(\n",
    "    adata.obs[\"volume\"],\n",
    "    kde=False,\n",
    "    ax=axs[3],\n",
    ")"
   ]
  },
  {
   "cell_type": "code",
   "execution_count": null,
   "id": "50b1c08b-4ead-4bd0-94a8-49c16863db75",
   "metadata": {},
   "outputs": [],
   "source": [
    "sc.pp.filter_cells(adata, min_counts=10)"
   ]
  },
  {
   "cell_type": "code",
   "execution_count": null,
   "id": "359e87b5-403f-4808-805c-d9bfee9bbe79",
   "metadata": {},
   "outputs": [],
   "source": [
    "# !pip install scikit-misc"
   ]
  },
  {
   "cell_type": "code",
   "execution_count": null,
   "id": "0863477f-5e18-45e4-a65c-1354889f386b",
   "metadata": {},
   "outputs": [],
   "source": [
    "adata.layers[\"counts\"] = adata.X.copy()\n",
    "sc.pp.highly_variable_genes(adata, flavor=\"seurat_v3\", n_top_genes=4000)\n",
    "sc.pp.normalize_total(adata, inplace=True)\n",
    "sc.pp.log1p(adata)\n",
    "sc.pp.pca(adata)\n",
    "sc.pp.neighbors(adata)\n",
    "sc.tl.umap(adata)\n",
    "sc.tl.leiden(adata)"
   ]
  },
  {
   "cell_type": "code",
   "execution_count": null,
   "id": "3633178d-30a1-4a00-906e-c47923721f45",
   "metadata": {},
   "outputs": [],
   "source": [
    "# Visualize annotation on UMAP and spatial coordinates"
   ]
  },
  {
   "cell_type": "code",
   "execution_count": null,
   "id": "eef7fd7d-3b37-4a54-b510-30e73a3b2b9a",
   "metadata": {},
   "outputs": [],
   "source": [
    "sc.pl.umap(\n",
    "    adata,\n",
    "    color=[\n",
    "        \"total_counts\",\n",
    "        \"n_genes_by_counts\",\n",
    "        \"leiden\",\n",
    "    ],\n",
    "    wspace=0.4,\n",
    ")"
   ]
  },
  {
   "cell_type": "code",
   "execution_count": null,
   "id": "30eb49e8-6db8-49d5-bba7-938239179979",
   "metadata": {},
   "outputs": [],
   "source": [
    "sq.pl.spatial_scatter(\n",
    "    adata,\n",
    "    shape=None,\n",
    "    color=[\n",
    "        \"leiden\",\n",
    "    ],\n",
    "    wspace=0.4,\n",
    ")"
   ]
  },
  {
   "cell_type": "code",
   "execution_count": null,
   "id": "2794bb97-b29e-4083-97f1-bdc6f19478c2",
   "metadata": {},
   "outputs": [],
   "source": [
    "# Computation of spatial statistics"
   ]
  },
  {
   "cell_type": "code",
   "execution_count": null,
   "id": "5318dedc-9f82-45f1-95c9-a4a65d80dd31",
   "metadata": {},
   "outputs": [],
   "source": [
    "# Building the spatial neighbors graphs"
   ]
  },
  {
   "cell_type": "code",
   "execution_count": null,
   "id": "eca65352-e328-4d86-b0ce-9db89d12f133",
   "metadata": {},
   "outputs": [],
   "source": [
    "sq.gr.spatial_neighbors(adata, coord_type=\"generic\", delaunay=True)"
   ]
  },
  {
   "cell_type": "code",
   "execution_count": null,
   "id": "0f71c3fd-0ea8-4ee9-8ad7-0cb7debfa120",
   "metadata": {},
   "outputs": [],
   "source": [
    "# Compute centrality scores"
   ]
  },
  {
   "cell_type": "code",
   "execution_count": null,
   "id": "da5c4161-3e34-4775-b4ea-c18928c42c5e",
   "metadata": {},
   "outputs": [],
   "source": [
    "sq.gr.centrality_scores(adata, cluster_key=\"leiden\")"
   ]
  },
  {
   "cell_type": "code",
   "execution_count": null,
   "id": "9ba215bd-3700-4877-b71e-16405bab104d",
   "metadata": {},
   "outputs": [],
   "source": [
    "sq.pl.centrality_scores(adata, cluster_key=\"leiden\", figsize=(16, 5))"
   ]
  },
  {
   "cell_type": "code",
   "execution_count": null,
   "id": "b910ab61-310c-43de-b2ad-9f08b859ea80",
   "metadata": {},
   "outputs": [],
   "source": [
    "# Compute co-occurrence probability"
   ]
  },
  {
   "cell_type": "code",
   "execution_count": null,
   "id": "14d8e2ce-0ac3-448d-b888-4ec715bd9948",
   "metadata": {},
   "outputs": [],
   "source": [
    "adata_subsample = sc.pp.subsample(adata, fraction=0.5, copy=True)"
   ]
  },
  {
   "cell_type": "code",
   "execution_count": null,
   "id": "1e5fd301-2197-428e-b081-37142252a17d",
   "metadata": {},
   "outputs": [],
   "source": [
    "sq.gr.co_occurrence(\n",
    "    adata_subsample,\n",
    "    cluster_key=\"leiden\",\n",
    ")\n",
    "sq.pl.co_occurrence(\n",
    "    adata_subsample,\n",
    "    cluster_key=\"leiden\",\n",
    "    clusters=\"12\",\n",
    "    figsize=(10, 10),\n",
    ")\n",
    "sq.pl.spatial_scatter(\n",
    "    adata_subsample,\n",
    "    color=\"leiden\",\n",
    "    shape=None,\n",
    "    size=2,\n",
    ")"
   ]
  },
  {
   "cell_type": "code",
   "execution_count": null,
   "id": "dd08498f-d967-4ae7-8961-eb384c5170bc",
   "metadata": {},
   "outputs": [],
   "source": [
    "# Neighbors enrichment analysis"
   ]
  },
  {
   "cell_type": "code",
   "execution_count": null,
   "id": "cf26610a-6f1e-4183-bcb2-a45b7cae151d",
   "metadata": {},
   "outputs": [],
   "source": [
    "sq.gr.nhood_enrichment(adata, cluster_key=\"leiden\")"
   ]
  },
  {
   "cell_type": "code",
   "execution_count": null,
   "id": "4688fd34-e4fe-4c9f-b8ff-56cbcdcbb819",
   "metadata": {},
   "outputs": [],
   "source": [
    "fig, ax = plt.subplots(1, 2, figsize=(13, 7))\n",
    "sq.pl.nhood_enrichment(\n",
    "    adata,\n",
    "    cluster_key=\"leiden\",\n",
    "    figsize=(8, 8),\n",
    "    title=\"Neighborhood enrichment adata\",\n",
    "    ax=ax[0],\n",
    ")\n",
    "sq.pl.spatial_scatter(adata_subsample, color=\"leiden\", shape=None, size=2, ax=ax[1])"
   ]
  },
  {
   "cell_type": "code",
   "execution_count": null,
   "id": "e10b3da6-b4aa-4f16-a1f4-ad9611fd861f",
   "metadata": {},
   "outputs": [],
   "source": []
  },
  {
   "cell_type": "code",
   "execution_count": null,
   "id": "a0b5a895-6ada-43a0-822e-4ccd4872cd30",
   "metadata": {},
   "outputs": [],
   "source": []
  },
  {
   "cell_type": "code",
   "execution_count": null,
   "id": "f533237e-3c07-4d24-a18b-11b74ceabe78",
   "metadata": {},
   "outputs": [],
   "source": []
  }
 ],
 "metadata": {
  "kernelspec": {
   "display_name": "",
   "name": ""
  },
  "language_info": {
   "name": ""
  }
 },
 "nbformat": 4,
 "nbformat_minor": 5
}
