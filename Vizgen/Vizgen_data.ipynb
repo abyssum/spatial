{
 "cells": [
  {
   "cell_type": "code",
   "execution_count": null,
   "id": "6150976c-4de8-407c-bfc8-58e81016b390",
   "metadata": {},
   "outputs": [],
   "source": [
    "from pathlib import Path\n",
    "\n",
    "import numpy as np\n",
    "import pandas as pd\n",
    "\n",
    "import matplotlib.pyplot as plt\n",
    "import seaborn as sns\n",
    "\n",
    "import scanpy as sc\n",
    "import squidpy as sq\n",
    "\n",
    "sc.logging.print_header()"
   ]
  },
  {
   "cell_type": "code",
   "execution_count": null,
   "id": "a725a802-12d2-4cd4-9ac8-b97d76ae8cfd",
   "metadata": {},
   "outputs": [],
   "source": [
    "# # # Download and unpack the Vizgen data\n",
    "# !mkdir tutorial_data\n",
    "# !mkdir tutorial_data/vizgen_data\n",
    "# !mkdir tutorial_data/vizgen_data/images"
   ]
  },
  {
   "cell_type": "code",
   "execution_count": null,
   "id": "0d71a331-c05a-444d-99c6-923f4bfc429a",
   "metadata": {},
   "outputs": [],
   "source": [
    "vizgen_dir = Path().resolve() / \"tutorial_data\" / \"vizgen_data\"\n",
    "\n",
    "adata = sq.read.vizgen(\n",
    "    path=vizgen_dir,\n",
    "    counts_file=\"datasets_mouse_brain_map_BrainReceptorShowcase_Slice1_Replicate1_cell_by_gene_S1R1.csv\",\n",
    "    meta_file=\"datasets_mouse_brain_map_BrainReceptorShowcase_Slice1_Replicate1_cell_metadata_S1R1.csv\",\n",
    "    transformation_file=\"datasets_mouse_brain_map_BrainReceptorShowcase_Slice1_Replicate1_images_micron_to_mosaic_pixel_transform.csv\",\n",
    ")"
   ]
  },
  {
   "cell_type": "code",
   "execution_count": null,
   "id": "1271f2d8-e0b3-46f1-ac94-668f53b38444",
   "metadata": {},
   "outputs": [],
   "source": [
    "# Calculate quality control metrics"
   ]
  },
  {
   "cell_type": "code",
   "execution_count": null,
   "id": "4269e4a9-44cf-4e31-a3fe-2b0574443f33",
   "metadata": {},
   "outputs": [],
   "source": [
    "sc.pp.calculate_qc_metrics(adata, percent_top=(50, 100, 200, 300), inplace=True)"
   ]
  },
  {
   "cell_type": "code",
   "execution_count": null,
   "id": "7a3f5635-bbb5-48d9-9d80-6e3e765d7001",
   "metadata": {},
   "outputs": [],
   "source": [
    "adata.obsm[\"blank_genes\"].to_numpy().sum() / adata.var[\"total_counts\"].sum() * 100"
   ]
  },
  {
   "cell_type": "code",
   "execution_count": null,
   "id": "f8a887da-da90-4ce5-8504-0237fcc6421f",
   "metadata": {},
   "outputs": [],
   "source": [
    "fig, axs = plt.subplots(1, 4, figsize=(15, 4))\n",
    "\n",
    "axs[0].set_title(\"Total transcripts per cell\")\n",
    "sns.histplot(\n",
    "    adata.obs[\"total_counts\"],\n",
    "    kde=False,\n",
    "    ax=axs[0],\n",
    ")\n",
    "\n",
    "axs[1].set_title(\"Unique transcripts per cell\")\n",
    "sns.histplot(\n",
    "    adata.obs[\"n_genes_by_counts\"],\n",
    "    kde=False,\n",
    "    ax=axs[1],\n",
    ")\n",
    "\n",
    "axs[2].set_title(\"Transcripts per FOV\")\n",
    "sns.histplot(\n",
    "    adata.obs.groupby(\"fov\").sum()[\"total_counts\"],\n",
    "    kde=False,\n",
    "    ax=axs[2],\n",
    ")\n",
    "\n",
    "axs[3].set_title(\"Volume of segmented cells\")\n",
    "sns.histplot(\n",
    "    adata.obs[\"volume\"],\n",
    "    kde=False,\n",
    "    ax=axs[3],\n",
    ")"
   ]
  },
  {
   "cell_type": "code",
   "execution_count": null,
   "id": "50b1c08b-4ead-4bd0-94a8-49c16863db75",
   "metadata": {},
   "outputs": [],
   "source": []
  },
  {
   "cell_type": "code",
   "execution_count": null,
   "id": "359e87b5-403f-4808-805c-d9bfee9bbe79",
   "metadata": {},
   "outputs": [],
   "source": []
  },
  {
   "cell_type": "code",
   "execution_count": null,
   "id": "0863477f-5e18-45e4-a65c-1354889f386b",
   "metadata": {},
   "outputs": [],
   "source": []
  },
  {
   "cell_type": "code",
   "execution_count": null,
   "id": "3633178d-30a1-4a00-906e-c47923721f45",
   "metadata": {},
   "outputs": [],
   "source": []
  }
 ],
 "metadata": {
  "kernelspec": {
   "display_name": "",
   "name": ""
  },
  "language_info": {
   "name": ""
  }
 },
 "nbformat": 4,
 "nbformat_minor": 5
}
