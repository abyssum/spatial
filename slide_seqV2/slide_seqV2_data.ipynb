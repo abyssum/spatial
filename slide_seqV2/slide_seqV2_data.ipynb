{
 "cells": [
  {
   "cell_type": "code",
   "execution_count": null,
   "id": "7bcc4974-6542-49e7-ae73-6271bcbdbfc9",
   "metadata": {},
   "outputs": [],
   "source": [
    "%matplotlib inline"
   ]
  },
  {
   "cell_type": "code",
   "execution_count": null,
   "id": "527fa567-35f6-418f-a545-9bf139b3c497",
   "metadata": {},
   "outputs": [],
   "source": [
    "import squidpy as sq\n",
    "\n",
    "print(f\"squidpy=={sq.__version__}\")\n",
    "\n",
    "# load the pre-processed dataset\n",
    "adata = sq.datasets.slideseqv2()\n",
    "adata"
   ]
  },
  {
   "cell_type": "code",
   "execution_count": null,
   "id": "06e9b473-aeff-4a42-8159-4aa3b20fbaff",
   "metadata": {},
   "outputs": [],
   "source": [
    "sq.pl.spatial_scatter(adata, color=\"cluster\", size=1, shape=None)"
   ]
  },
  {
   "cell_type": "code",
   "execution_count": null,
   "id": "bb3c22fc-9931-4ea7-aed9-1725ff506b4f",
   "metadata": {},
   "outputs": [],
   "source": [
    "# Neighborhood enrichment analysis"
   ]
  },
  {
   "cell_type": "code",
   "execution_count": null,
   "id": "cc77ea16-7a62-4e4e-b5b5-dd328969b5bf",
   "metadata": {},
   "outputs": [],
   "source": [
    "sq.gr.spatial_neighbors(adata, coord_type=\"generic\")\n",
    "sq.gr.nhood_enrichment(adata, cluster_key=\"cluster\")\n",
    "sq.pl.nhood_enrichment(\n",
    "    adata, cluster_key=\"cluster\", method=\"single\", cmap=\"inferno\", vmin=-50, vmax=100\n",
    ")"
   ]
  },
  {
   "cell_type": "code",
   "execution_count": null,
   "id": "c25b0022-419c-4419-97d2-79bc9e13db8c",
   "metadata": {},
   "outputs": [],
   "source": [
    "sq.pl.spatial_scatter(\n",
    "    adata,\n",
    "    shape=None,\n",
    "    color=\"cluster\",\n",
    "    groups=[\"Endothelial_Tip\", \"Ependymal\", \"Oligodendrocytes\", \"Polydendrocytes\"],\n",
    "    size=3,\n",
    ")"
   ]
  },
  {
   "cell_type": "code",
   "execution_count": null,
   "id": "62da3f03-1dea-4f9f-a5b1-80723c212213",
   "metadata": {},
   "outputs": [],
   "source": [
    "# Ripley’s statistics"
   ]
  },
  {
   "cell_type": "code",
   "execution_count": null,
   "id": "752e143f-46f5-4329-8023-fc97bc10d2ba",
   "metadata": {},
   "outputs": [],
   "source": [
    "mode = \"L\"\n",
    "sq.gr.ripley(adata, cluster_key=\"cluster\", mode=mode, max_dist=500)\n",
    "sq.pl.ripley(adata, cluster_key=\"cluster\", mode=mode)"
   ]
  },
  {
   "cell_type": "code",
   "execution_count": null,
   "id": "17f42e61-b956-4098-bad2-22f5efddd894",
   "metadata": {},
   "outputs": [],
   "source": [
    "sq.pl.spatial_scatter(\n",
    "    adata,\n",
    "    color=\"cluster\",\n",
    "    groups=[\"Mural\", \"CA1_CA2_CA3_Subiculum\"],\n",
    "    size=3,\n",
    "    shape=None,\n",
    ")"
   ]
  },
  {
   "cell_type": "code",
   "execution_count": null,
   "id": "23a97fbd-2689-4cd3-b92c-06b1e92d61f1",
   "metadata": {},
   "outputs": [],
   "source": [
    "# Ligand-receptor interaction analysis"
   ]
  },
  {
   "cell_type": "code",
   "execution_count": null,
   "id": "af07a768-3c1b-4d5b-9765-7071f56cb125",
   "metadata": {},
   "outputs": [],
   "source": [
    "sq.gr.ligrec(\n",
    "    adata,\n",
    "    n_perms=100,\n",
    "    cluster_key=\"cluster\",\n",
    "    clusters=[\"Polydendrocytes\", \"Oligodendrocytes\"],\n",
    ")\n",
    "sq.pl.ligrec(\n",
    "    adata,\n",
    "    cluster_key=\"cluster\",\n",
    "    source_groups=\"Oligodendrocytes\",\n",
    "    target_groups=[\"Polydendrocytes\"],\n",
    "    pvalue_threshold=0.05,\n",
    "    swap_axes=True,\n",
    ")"
   ]
  },
  {
   "cell_type": "code",
   "execution_count": null,
   "id": "23d9b277-99a2-4a59-9b53-f5e37c7031de",
   "metadata": {},
   "outputs": [],
   "source": [
    "# Spatially variable genes with spatial autocorrelation statistics"
   ]
  },
  {
   "cell_type": "code",
   "execution_count": null,
   "id": "76ab5e8c-61ca-4d82-b531-fa0bf7770045",
   "metadata": {},
   "outputs": [],
   "source": [
    "sq.gr.spatial_autocorr(adata, mode=\"moran\")\n",
    "adata.uns[\"moranI\"].head(10)"
   ]
  },
  {
   "cell_type": "code",
   "execution_count": null,
   "id": "ffa841d7-5ac2-4a19-92e7-2f3137193915",
   "metadata": {},
   "outputs": [],
   "source": []
  },
  {
   "cell_type": "code",
   "execution_count": null,
   "id": "c3260541-7319-4d99-b590-5053c04c1099",
   "metadata": {},
   "outputs": [],
   "source": []
  }
 ],
 "metadata": {
  "kernelspec": {
   "display_name": "Python 3 (ipykernel)",
   "language": "python",
   "name": "python3"
  },
  "language_info": {
   "codemirror_mode": {
    "name": "ipython",
    "version": 3
   },
   "file_extension": ".py",
   "mimetype": "text/x-python",
   "name": "python",
   "nbconvert_exporter": "python",
   "pygments_lexer": "ipython3",
   "version": "3.11.9"
  }
 },
 "nbformat": 4,
 "nbformat_minor": 5
}
