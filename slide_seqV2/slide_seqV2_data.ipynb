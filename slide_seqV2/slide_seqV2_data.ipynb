{
 "cells": [
  {
   "cell_type": "code",
   "execution_count": null,
   "id": "7bcc4974-6542-49e7-ae73-6271bcbdbfc9",
   "metadata": {},
   "outputs": [],
   "source": [
    "%matplotlib inline"
   ]
  },
  {
   "cell_type": "code",
   "execution_count": null,
   "id": "527fa567-35f6-418f-a545-9bf139b3c497",
   "metadata": {},
   "outputs": [],
   "source": [
    "import squidpy as sq\n",
    "\n",
    "print(f\"squidpy=={sq.__version__}\")\n",
    "\n",
    "# load the pre-processed dataset\n",
    "adata = sq.datasets.slideseqv2()\n",
    "adata"
   ]
  },
  {
   "cell_type": "code",
   "execution_count": null,
   "id": "06e9b473-aeff-4a42-8159-4aa3b20fbaff",
   "metadata": {},
   "outputs": [],
   "source": [
    "sq.pl.spatial_scatter(adata, color=\"cluster\", size=1, shape=None)"
   ]
  },
  {
   "cell_type": "code",
   "execution_count": null,
   "id": "bb3c22fc-9931-4ea7-aed9-1725ff506b4f",
   "metadata": {},
   "outputs": [],
   "source": [
    "# Neighborhood enrichment analysis"
   ]
  },
  {
   "cell_type": "code",
   "execution_count": null,
   "id": "cc77ea16-7a62-4e4e-b5b5-dd328969b5bf",
   "metadata": {},
   "outputs": [],
   "source": [
    "sq.gr.spatial_neighbors(adata, coord_type=\"generic\")\n",
    "sq.gr.nhood_enrichment(adata, cluster_key=\"cluster\")\n",
    "sq.pl.nhood_enrichment(\n",
    "    adata, cluster_key=\"cluster\", method=\"single\", cmap=\"inferno\", vmin=-50, vmax=100\n",
    ")"
   ]
  },
  {
   "cell_type": "code",
   "execution_count": null,
   "id": "c25b0022-419c-4419-97d2-79bc9e13db8c",
   "metadata": {},
   "outputs": [],
   "source": []
  },
  {
   "cell_type": "code",
   "execution_count": null,
   "id": "62da3f03-1dea-4f9f-a5b1-80723c212213",
   "metadata": {},
   "outputs": [],
   "source": []
  }
 ],
 "metadata": {
  "kernelspec": {
   "display_name": "Python 3 (ipykernel)",
   "language": "python",
   "name": "python3"
  },
  "language_info": {
   "codemirror_mode": {
    "name": "ipython",
    "version": 3
   },
   "file_extension": ".py",
   "mimetype": "text/x-python",
   "name": "python",
   "nbconvert_exporter": "python",
   "pygments_lexer": "ipython3",
   "version": "3.11.8"
  }
 },
 "nbformat": 4,
 "nbformat_minor": 5
}
