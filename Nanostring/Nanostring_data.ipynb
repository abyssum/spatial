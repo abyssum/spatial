{
 "cells": [
  {
   "cell_type": "code",
   "execution_count": null,
   "id": "782d243c-95b9-4eda-a968-07d09a9a5aee",
   "metadata": {},
   "outputs": [],
   "source": [
    "from pathlib import Path\n",
    "\n",
    "import numpy as np\n",
    "\n",
    "import matplotlib.pyplot as plt\n",
    "import seaborn as sns\n",
    "\n",
    "import scanpy as sc\n",
    "import squidpy as sq\n",
    "\n",
    "sc.logging.print_header()"
   ]
  },
  {
   "cell_type": "code",
   "execution_count": null,
   "id": "4b114f99-ae2d-4627-bf73-048f7659232d",
   "metadata": {},
   "outputs": [],
   "source": [
    "# !mkdir tutorial_data\n",
    "# !mkdir tutorial_data/nanostring_data\n",
    "# !wget -P tutorial_data/nanostring_data https://nanostring-public-share.s3.us-west-2.amazonaws.com/SMI-Compressed/Lung5_Rep2/Lung5_Rep2+SMI+Flat+data.tar.gz\n",
    "# !tar -xzf tutorial_data/nanostring_data/Lung5_Rep2+SMI+Flat+data.tar.gz -C tutorial_data/nanostring_data/"
   ]
  },
  {
   "cell_type": "code",
   "execution_count": null,
   "id": "1d76bc90-74e5-4b24-902b-db1818e0f1ba",
   "metadata": {},
   "outputs": [],
   "source": [
    "nanostring_dir = Path().resolve() / \"tutorial_data\" / \"nanostring_data\"\n",
    "sample_dir = nanostring_dir / \"Lung5_Rep2\" / \"Lung5_Rep2-Flat_files_and_images\"\n",
    "\n",
    "adata = sq.read.nanostring(\n",
    "    path=sample_dir,\n",
    "    counts_file=\"Lung5_Rep2_exprMat_file.csv\",\n",
    "    meta_file=\"Lung5_Rep2_metadata_file.csv\",\n",
    "    fov_file=\"Lung5_Rep2_fov_positions_file.csv\",\n",
    ")"
   ]
  },
  {
   "cell_type": "code",
   "execution_count": null,
   "id": "04db66a6-6794-4256-9e4c-ecfd12fa6722",
   "metadata": {},
   "outputs": [],
   "source": [
    "# QC"
   ]
  },
  {
   "cell_type": "code",
   "execution_count": null,
   "id": "1085dd6f-cb50-4920-acdf-147d56c61b48",
   "metadata": {},
   "outputs": [],
   "source": [
    "adata.var[\"NegPrb\"] = adata.var_names.str.startswith(\"NegPrb\")\n",
    "sc.pp.calculate_qc_metrics(adata, qc_vars=[\"NegPrb\"], inplace=True)\n"
   ]
  },
  {
   "cell_type": "code",
   "execution_count": null,
   "id": "338b892c-107d-4c5a-be9f-3ccb997f21f1",
   "metadata": {},
   "outputs": [],
   "source": [
    "import pandas as pd\n",
    "\n",
    "pd.set_option(\"display.max_columns\", None)"
   ]
  },
  {
   "cell_type": "code",
   "execution_count": null,
   "id": "5720a547-9689-4f8b-a5a0-3138c104edfd",
   "metadata": {},
   "outputs": [],
   "source": [
    "adata.obs[\"total_counts_NegPrb\"].sum() / adata.obs[\"total_counts\"].sum() * 100"
   ]
  },
  {
   "cell_type": "code",
   "execution_count": null,
   "id": "821c2bc5-7ecb-4a1a-b50e-e46626078e53",
   "metadata": {},
   "outputs": [],
   "source": [
    "fig, axs = plt.subplots(1, 3, figsize=(15, 4))\n",
    "\n",
    "axs[0].set_title(\"Total transcripts per cell\")\n",
    "sns.histplot(\n",
    "    adata.obs[\"total_counts\"],\n",
    "    kde=False,\n",
    "    ax=axs[0],\n",
    ")\n",
    "\n",
    "axs[1].set_title(\"Unique transcripts per cell\")\n",
    "sns.histplot(\n",
    "    adata.obs[\"n_genes_by_counts\"],\n",
    "    kde=False,\n",
    "    ax=axs[1],\n",
    ")\n",
    "\n",
    "axs[2].set_title(\"Transcripts per FOV\")\n",
    "sns.histplot(\n",
    "    adata.obs.groupby(\"fov\").sum()[\"total_counts\"],\n",
    "    kde=False,\n",
    "    ax=axs[2],\n",
    ")"
   ]
  },
  {
   "cell_type": "code",
   "execution_count": null,
   "id": "5c71c981-d717-460a-a200-fabd61526723",
   "metadata": {},
   "outputs": [],
   "source": [
    "fig, axs = plt.subplots(1, 4, figsize=(15, 4))\n",
    "\n",
    "axs[0].set_title(\"Membrane Stain\")\n",
    "sns.histplot(\n",
    "    adata.obs[\"Mean.MembraneStain\"],\n",
    "    kde=False,\n",
    "    ax=axs[0],\n",
    ")\n",
    "\n",
    "axs[1].set_title(\"PanCK\")\n",
    "sns.histplot(\n",
    "    adata.obs[\"Mean.PanCK\"],\n",
    "    kde=False,\n",
    "    ax=axs[1],\n",
    ")\n",
    "\n",
    "axs[2].set_title(\"CD45\")\n",
    "sns.histplot(\n",
    "    adata.obs[\"Mean.CD45\"],\n",
    "    kde=False,\n",
    "    ax=axs[2],\n",
    ")\n",
    "\n",
    "axs[3].set_title(\"CD3\")\n",
    "sns.histplot(\n",
    "    adata.obs[\"Mean.CD3\"],\n",
    "    kde=False,\n",
    "    ax=axs[3],\n",
    ")"
   ]
  },
  {
   "cell_type": "code",
   "execution_count": null,
   "id": "c19061bb-dabe-4ba1-ab4f-b3d5221367e4",
   "metadata": {},
   "outputs": [],
   "source": [
    "sc.pp.filter_cells(adata, min_counts=100)\n",
    "sc.pp.filter_genes(adata, min_cells=400)"
   ]
  },
  {
   "cell_type": "code",
   "execution_count": null,
   "id": "e532ea4e-9749-467c-9b3e-2ec943bff1ab",
   "metadata": {},
   "outputs": [],
   "source": [
    "# !pip install scikit-misc"
   ]
  },
  {
   "cell_type": "code",
   "execution_count": null,
   "id": "33c77139-cefa-4184-9db7-25be7dada6fb",
   "metadata": {},
   "outputs": [],
   "source": [
    "adata.layers[\"counts\"] = adata.X.copy()\n",
    "sc.pp.normalize_total(adata, inplace=True)\n",
    "sc.pp.log1p(adata)\n",
    "sc.pp.pca(adata)\n",
    "sc.pp.neighbors(adata)\n",
    "sc.tl.umap(adata)\n",
    "sc.tl.leiden(adata)"
   ]
  },
  {
   "cell_type": "code",
   "execution_count": null,
   "id": "c481caf2-6a6d-42e8-a76c-9adb073b636f",
   "metadata": {},
   "outputs": [],
   "source": [
    "# Visualization"
   ]
  },
  {
   "cell_type": "code",
   "execution_count": null,
   "id": "760fff44-c0c3-4789-8808-5fcbb48048f5",
   "metadata": {},
   "outputs": [],
   "source": [
    "sc.pl.umap(\n",
    "    adata,\n",
    "    color=[\n",
    "        \"total_counts\",\n",
    "        \"n_genes_by_counts\",\n",
    "        \"leiden\",\n",
    "    ],\n",
    "    wspace=0.4,\n",
    ")"
   ]
  },
  {
   "cell_type": "code",
   "execution_count": null,
   "id": "d81acf63-51f7-4680-8576-b48a3636f6a4",
   "metadata": {},
   "outputs": [],
   "source": [
    "sq.pl.spatial_segment(\n",
    "    adata,\n",
    "    color=\"Max.PanCK\",\n",
    "    library_key=\"fov\",\n",
    "    seg_cell_id=\"cell_ID\",\n",
    ")"
   ]
  },
  {
   "cell_type": "code",
   "execution_count": null,
   "id": "c502a11f-31e6-4570-a498-794aad38bf15",
   "metadata": {},
   "outputs": [],
   "source": [
    "sq.pl.spatial_segment(\n",
    "    adata,\n",
    "    color=\"Max.PanCK\",\n",
    "    library_key=\"fov\",\n",
    "    library_id=[\"12\", \"16\"],\n",
    "    seg_cell_id=\"cell_ID\",\n",
    ")"
   ]
  },
  {
   "cell_type": "code",
   "execution_count": null,
   "id": "30a326d5-1e54-4d83-9e14-4fb5607e5a26",
   "metadata": {},
   "outputs": [],
   "source": [
    "sq.pl.spatial_segment(\n",
    "    adata,\n",
    "    color=\"Max.PanCK\",\n",
    "    library_key=\"fov\",\n",
    "    library_id=\"12\",\n",
    "    seg_cell_id=\"cell_ID\",\n",
    "    seg_contourpx=10,\n",
    "    crop_coord=[(0, 0, 700, 700)],\n",
    ")"
   ]
  },
  {
   "cell_type": "code",
   "execution_count": null,
   "id": "d4485df8-c8ef-42de-86f0-087c7a66b7f2",
   "metadata": {},
   "outputs": [],
   "source": [
    "sq.pl.spatial_segment(\n",
    "    adata,\n",
    "    color=\"Area\",\n",
    "    library_key=\"fov\",\n",
    "    library_id=[\"12\", \"16\"],\n",
    "    seg_cell_id=\"cell_ID\",\n",
    "    seg_outline=True,\n",
    "    cmap=\"plasma\",\n",
    "    img=False,\n",
    "    scalebar_dx=1.0,\n",
    "    scalebar_kwargs={\"scale_loc\": \"bottom\", \"location\": \"lower right\"},\n",
    ")"
   ]
  },
  {
   "cell_type": "code",
   "execution_count": null,
   "id": "35251f4c-3b75-4363-8230-6f7a923460ff",
   "metadata": {},
   "outputs": [],
   "source": [
    "fig, ax = plt.subplots(1, 2, figsize=(15, 7))\n",
    "sq.pl.spatial_segment(\n",
    "    adata,\n",
    "    shape=\"hex\",\n",
    "    color=\"leiden\",\n",
    "    library_key=\"fov\",\n",
    "    library_id=\"12\",\n",
    "    seg_cell_id=\"cell_ID\",\n",
    "    img=False,\n",
    "    size=60,\n",
    "    ax=ax[0],\n",
    ")\n",
    "\n",
    "sq.pl.spatial_segment(\n",
    "    adata,\n",
    "    color=\"leiden\",\n",
    "    seg_cell_id=\"cell_ID\",\n",
    "    library_key=\"fov\",\n",
    "    library_id=\"16\",\n",
    "    img=False,\n",
    "    size=60,\n",
    "    ax=ax[1],\n",
    ")"
   ]
  },
  {
   "cell_type": "code",
   "execution_count": null,
   "id": "8b30017c-c542-43c6-aa7d-67089a53d9b7",
   "metadata": {},
   "outputs": [],
   "source": [
    "fig, ax = plt.subplots(1, 2, figsize=(15, 15))\n",
    "sq.gr.spatial_neighbors(\n",
    "    adata,\n",
    "    n_neighs=10,\n",
    "    coord_type=\"generic\",\n",
    ")\n",
    "_, idx = adata.obsp[\"spatial_connectivities\"][420, :].nonzero()\n",
    "idx = np.append(idx, 420)\n",
    "sq.pl.spatial_scatter(\n",
    "    adata[idx, :],\n",
    "    library_id=\"16\",\n",
    "    color=\"leiden\",\n",
    "    connectivity_key=\"spatial_connectivities\",\n",
    "    size=3,\n",
    "    edges_width=1,\n",
    "    edges_color=\"black\",\n",
    "    img=False,\n",
    "    title=\"K-nearest neighbors\",\n",
    "    ax=ax[0],\n",
    ")\n",
    "\n",
    "sq.gr.spatial_neighbors(\n",
    "    adata,\n",
    "    n_neighs=10,\n",
    "    coord_type=\"generic\",\n",
    "    delaunay=True,\n",
    ")\n",
    "_, idx = adata.obsp[\"spatial_connectivities\"][420, :].nonzero()\n",
    "idx = np.append(idx, 420)\n",
    "sq.pl.spatial_scatter(\n",
    "    adata[idx, :],\n",
    "    library_id=\"16\",\n",
    "    color=\"leiden\",\n",
    "    connectivity_key=\"spatial_connectivities\",\n",
    "    size=3,\n",
    "    edges_width=1,\n",
    "    edges_color=\"black\",\n",
    "    img=False,\n",
    "    title=\"Delaunay triangulation\",\n",
    "    ax=ax[1],\n",
    ")"
   ]
  },
  {
   "cell_type": "code",
   "execution_count": null,
   "id": "0051f67e-b80f-4d8a-810b-c804773e5154",
   "metadata": {},
   "outputs": [],
   "source": [
    "adata.obsp[\"spatial_connectivities\"]"
   ]
  },
  {
   "cell_type": "code",
   "execution_count": null,
   "id": "450e0752-74b9-4a3f-ab8b-7192534ad0e0",
   "metadata": {},
   "outputs": [],
   "source": [
    "adata.obsp[\"spatial_distances\"]"
   ]
  },
  {
   "cell_type": "code",
   "execution_count": null,
   "id": "df0717d8-2251-4983-9177-27401e1bec7f",
   "metadata": {},
   "outputs": [],
   "source": [
    "sq.gr.spatial_neighbors(\n",
    "    adata,\n",
    "    radius=30,\n",
    "    coord_type=\"generic\",\n",
    ")\n",
    "\n",
    "_, idx = adata.obsp[\"spatial_connectivities\"][420, :].nonzero()\n",
    "idx = np.append(idx, 420)\n",
    "sq.pl.spatial_scatter(\n",
    "    adata[idx, :],\n",
    "    library_id=\"16\",\n",
    "    color=\"leiden\",\n",
    "    connectivity_key=\"spatial_connectivities\",\n",
    "    size=3,\n",
    "    edges_width=1,\n",
    "    edges_color=\"black\",\n",
    "    img=False,\n",
    ")"
   ]
  },
  {
   "cell_type": "code",
   "execution_count": null,
   "id": "5b52e3f1-980d-4779-aff5-9e3f241a1d0b",
   "metadata": {},
   "outputs": [],
   "source": [
    "adata.obsp[\"spatial_connectivities\"]\n",
    "adata.obsp[\"spatial_distances\"]"
   ]
  },
  {
   "cell_type": "code",
   "execution_count": null,
   "id": "28746de3-9807-42f1-af01-d78b618d3329",
   "metadata": {},
   "outputs": [],
   "source": [
    "adata_spatial_neighbor = sq.gr.spatial_neighbors(\n",
    "    adata, coord_type=\"generic\", delaunay=True\n",
    ")"
   ]
  },
  {
   "cell_type": "code",
   "execution_count": null,
   "id": "36a569e7-bf4f-4bf8-bc49-b9cf3e2ba85a",
   "metadata": {},
   "outputs": [],
   "source": [
    "sq.gr.centrality_scores(adata, cluster_key=\"leiden\")"
   ]
  },
  {
   "cell_type": "code",
   "execution_count": null,
   "id": "546534c4-c328-4466-b4c1-1e114e5de561",
   "metadata": {},
   "outputs": [],
   "source": [
    "sq.pl.centrality_scores(adata, cluster_key=\"leiden\", figsize=(10, 6))"
   ]
  },
  {
   "cell_type": "code",
   "execution_count": null,
   "id": "b1d76dfc-9792-48e6-8a8a-167c51deba9c",
   "metadata": {},
   "outputs": [],
   "source": [
    "# Co-occurance probability"
   ]
  },
  {
   "cell_type": "code",
   "execution_count": null,
   "id": "36bced9c-c7a3-43f4-841d-ecbc844e6b26",
   "metadata": {},
   "outputs": [],
   "source": [
    "adata_subset = adata[adata.obs.fov == \"16\"].copy()"
   ]
  },
  {
   "cell_type": "code",
   "execution_count": null,
   "id": "4f8505c9-c8ca-452a-a2b1-620e89397b37",
   "metadata": {},
   "outputs": [],
   "source": [
    "sq.gr.co_occurrence(\n",
    "    adata_subset,\n",
    "    cluster_key=\"leiden\",\n",
    ")\n",
    "sq.pl.co_occurrence(\n",
    "    adata_subset,\n",
    "    cluster_key=\"leiden\",\n",
    "    clusters=\"3\",\n",
    ")\n",
    "\n",
    "\n",
    "sq.pl.spatial_segment(\n",
    "    adata_subset,\n",
    "    shape=\"hex\",\n",
    "    color=\"leiden\",\n",
    "    library_id=\"16\",\n",
    "    library_key=\"fov\",\n",
    "    seg_cell_id=\"cell_ID\",\n",
    "    img=False,\n",
    "    size=60,\n",
    ")"
   ]
  },
  {
   "cell_type": "code",
   "execution_count": null,
   "id": "eebc173b-72a9-4d92-a30b-abd4c58c4a5f",
   "metadata": {},
   "outputs": [],
   "source": [
    "# Neighbors enrichment analysis"
   ]
  },
  {
   "cell_type": "code",
   "execution_count": null,
   "id": "6906007e-70d1-4e00-a0bd-d74923a17cd1",
   "metadata": {},
   "outputs": [],
   "source": [
    "sq.gr.nhood_enrichment(adata, cluster_key=\"leiden\")"
   ]
  },
  {
   "cell_type": "code",
   "execution_count": null,
   "id": "cebcb262-3d0d-4a9a-9a17-7969e25e2643",
   "metadata": {},
   "outputs": [],
   "source": [
    "sq.gr.nhood_enrichment(adata_subset, cluster_key=\"leiden\")"
   ]
  },
  {
   "cell_type": "code",
   "execution_count": null,
   "id": "e3e98008-721e-42c9-9a96-5eebf0890a7e",
   "metadata": {},
   "outputs": [],
   "source": []
  },
  {
   "cell_type": "code",
   "execution_count": null,
   "id": "01171180-f48e-4a3b-bfcb-8306e1cadfc5",
   "metadata": {},
   "outputs": [],
   "source": []
  }
 ],
 "metadata": {
  "kernelspec": {
   "display_name": "",
   "name": ""
  },
  "language_info": {
   "name": ""
  }
 },
 "nbformat": 4,
 "nbformat_minor": 5
}
