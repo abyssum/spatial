{
 "cells": [
  {
   "cell_type": "code",
   "execution_count": null,
   "id": "782d243c-95b9-4eda-a968-07d09a9a5aee",
   "metadata": {},
   "outputs": [],
   "source": [
    "from pathlib import Path\n",
    "\n",
    "import numpy as np\n",
    "\n",
    "import matplotlib.pyplot as plt\n",
    "import seaborn as sns\n",
    "\n",
    "import scanpy as sc\n",
    "import squidpy as sq\n",
    "\n",
    "sc.logging.print_header()"
   ]
  },
  {
   "cell_type": "code",
   "execution_count": null,
   "id": "4b114f99-ae2d-4627-bf73-048f7659232d",
   "metadata": {},
   "outputs": [],
   "source": [
    "# !mkdir tutorial_data\n",
    "# !mkdir tutorial_data/nanostring_data\n",
    "# !wget -P tutorial_data/nanostring_data https://nanostring-public-share.s3.us-west-2.amazonaws.com/SMI-Compressed/Lung5_Rep2/Lung5_Rep2+SMI+Flat+data.tar.gz\n",
    "# !tar -xzf tutorial_data/nanostring_data/Lung5_Rep2+SMI+Flat+data.tar.gz -C tutorial_data/nanostring_data/"
   ]
  },
  {
   "cell_type": "code",
   "execution_count": null,
   "id": "1d76bc90-74e5-4b24-902b-db1818e0f1ba",
   "metadata": {},
   "outputs": [],
   "source": [
    "nanostring_dir = Path().resolve() / \"tutorial_data\" / \"nanostring_data\"\n",
    "sample_dir = nanostring_dir / \"Lung5_Rep2\" / \"Lung5_Rep2-Flat_files_and_images\"\n",
    "\n",
    "adata = sq.read.nanostring(\n",
    "    path=sample_dir,\n",
    "    counts_file=\"Lung5_Rep2_exprMat_file.csv\",\n",
    "    meta_file=\"Lung5_Rep2_metadata_file.csv\",\n",
    "    fov_file=\"Lung5_Rep2_fov_positions_file.csv\",\n",
    ")"
   ]
  },
  {
   "cell_type": "code",
   "execution_count": null,
   "id": "1085dd6f-cb50-4920-acdf-147d56c61b48",
   "metadata": {},
   "outputs": [],
   "source": [
    "adata.var[\"NegPrb\"] = adata.var_names.str.startswith(\"NegPrb\")\n",
    "sc.pp.calculate_qc_metrics(adata, qc_vars=[\"NegPrb\"], inplace=True)\n",
    "bbb"
   ]
  },
  {
   "cell_type": "code",
   "execution_count": null,
   "id": "338b892c-107d-4c5a-be9f-3ccb997f21f1",
   "metadata": {},
   "outputs": [],
   "source": [
    "import pandas as pd\n",
    "\n",
    "pd.set_option(\"display.max_columns\", None)"
   ]
  },
  {
   "cell_type": "code",
   "execution_count": null,
   "id": "5720a547-9689-4f8b-a5a0-3138c104edfd",
   "metadata": {},
   "outputs": [],
   "source": [
    "adata.obs[\"total_counts_NegPrb\"].sum() / adata.obs[\"total_counts\"].sum() * 100"
   ]
  },
  {
   "cell_type": "code",
   "execution_count": null,
   "id": "821c2bc5-7ecb-4a1a-b50e-e46626078e53",
   "metadata": {},
   "outputs": [],
   "source": [
    "fig, axs = plt.subplots(1, 3, figsize=(15, 4))\n",
    "\n",
    "axs[0].set_title(\"Total transcripts per cell\")\n",
    "sns.histplot(\n",
    "    adata.obs[\"total_counts\"],\n",
    "    kde=False,\n",
    "    ax=axs[0],\n",
    ")\n",
    "\n",
    "axs[1].set_title(\"Unique transcripts per cell\")\n",
    "sns.histplot(\n",
    "    adata.obs[\"n_genes_by_counts\"],\n",
    "    kde=False,\n",
    "    ax=axs[1],\n",
    ")\n",
    "\n",
    "axs[2].set_title(\"Transcripts per FOV\")\n",
    "sns.histplot(\n",
    "    adata.obs.groupby(\"fov\").sum()[\"total_counts\"],\n",
    "    kde=False,\n",
    "    ax=axs[2],\n",
    ")"
   ]
  },
  {
   "cell_type": "code",
   "execution_count": null,
   "id": "5c71c981-d717-460a-a200-fabd61526723",
   "metadata": {},
   "outputs": [],
   "source": []
  },
  {
   "cell_type": "code",
   "execution_count": null,
   "id": "c19061bb-dabe-4ba1-ab4f-b3d5221367e4",
   "metadata": {},
   "outputs": [],
   "source": []
  },
  {
   "cell_type": "code",
   "execution_count": null,
   "id": "e532ea4e-9749-467c-9b3e-2ec943bff1ab",
   "metadata": {},
   "outputs": [],
   "source": []
  }
 ],
 "metadata": {
  "kernelspec": {
   "display_name": "",
   "name": ""
  },
  "language_info": {
   "name": ""
  }
 },
 "nbformat": 4,
 "nbformat_minor": 5
}
