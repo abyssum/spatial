{
 "cells": [
  {
   "cell_type": "code",
   "execution_count": null,
   "id": "1938c1a9-48ef-4dd8-82b6-d83ccc073b86",
   "metadata": {},
   "outputs": [],
   "source": [
    "import pandas as pd\n",
    "\n",
    "import matplotlib.pyplot as plt\n",
    "\n",
    "import anndata as ad\n",
    "import scanpy as sc\n",
    "import squidpy as sq\n",
    "\n",
    "sc.logging.print_header()\n",
    "print(f\"squidpy=={sq.__version__}\")\n",
    "\n",
    "# load the pre-processed dataset\n",
    "img = sq.datasets.visium_fluo_image_crop()\n",
    "adata = sq.datasets.visium_fluo_adata_crop()"
   ]
  },
  {
   "cell_type": "code",
   "execution_count": null,
   "id": "dbb4b7df-09c1-44bc-a48c-194bfdc28b74",
   "metadata": {},
   "outputs": [],
   "source": [
    "sq.pl.spatial_scatter(adata, color=\"cluster\")"
   ]
  },
  {
   "cell_type": "code",
   "execution_count": null,
   "id": "ee46587f-f0b6-4d81-a8f1-69d1f8f0d7f4",
   "metadata": {},
   "outputs": [],
   "source": [
    "img.show(channelwise=True)"
   ]
  },
  {
   "cell_type": "markdown",
   "id": "939779ac-0c09-49b5-a4e7-4ff20c0aface",
   "metadata": {},
   "source": [
    "# Image segmentation"
   ]
  },
  {
   "cell_type": "code",
   "execution_count": null,
   "id": "ef1846d5-32a3-49f9-ab3e-d2f35dc0ae1e",
   "metadata": {},
   "outputs": [],
   "source": [
    "sq.im.process(\n",
    "    img=img,\n",
    "    layer=\"image\",\n",
    "    method=\"smooth\",\n",
    ")\n",
    "\n",
    "sq.im.segment(img=img, layer=\"image_smooth\", method=\"watershed\", channel=0, chunks=1000)\n",
    "\n",
    "# plot the resulting segmentation\n",
    "fig, ax = plt.subplots(1, 2)\n",
    "img_crop = img.crop_corner(2000, 2000, size=500)\n",
    "img_crop.show(layer=\"image\", channel=0, ax=ax[0])\n",
    "img_crop.show(\n",
    "    layer=\"segmented_watershed\",\n",
    "    channel=0,\n",
    "    ax=ax[1],\n",
    ")"
   ]
  },
  {
   "cell_type": "markdown",
   "id": "baadc09e-1e51-44fa-a59f-c409c8663c0b",
   "metadata": {},
   "source": [
    "# Segmentation features"
   ]
  },
  {
   "cell_type": "code",
   "execution_count": null,
   "id": "e5c12580-340e-4c66-8e6c-e73db1a4e691",
   "metadata": {},
   "outputs": [],
   "source": [
    "# define image layer to use for segmentation\n",
    "features_kwargs = {\"segmentation\": {\"label_layer\": \"segmented_watershed\"}}\n",
    "# calculate segmentation features\n",
    "sq.im.calculate_image_features(\n",
    "    adata,\n",
    "    img,\n",
    "    features=\"segmentation\",\n",
    "    layer=\"image\",\n",
    "    key_added=\"features_segmentation\",\n",
    "    n_jobs=1,\n",
    "    features_kwargs=features_kwargs,\n",
    ")\n",
    "# plot results and compare with gene-space clustering\n",
    "sq.pl.spatial_scatter(\n",
    "    sq.pl.extract(adata, \"features_segmentation\"),\n",
    "    color=[\n",
    "        \"segmentation_label\",\n",
    "        \"cluster\",\n",
    "        \"segmentation_ch-0_mean_intensity_mean\",\n",
    "        \"segmentation_ch-1_mean_intensity_mean\",\n",
    "    ],\n",
    "    frameon=False,\n",
    "    ncols=2,\n",
    ")"
   ]
  },
  {
   "cell_type": "markdown",
   "id": "e2091585-32e8-4ab8-baac-e7bc6b71c5b0",
   "metadata": {},
   "source": [
    "# Ectract cluster features"
   ]
  },
  {
   "cell_type": "code",
   "execution_count": null,
   "id": "3b907a90-76bb-4c0c-8cec-f9947221106c",
   "metadata": {},
   "outputs": [],
   "source": [
    "# define different feature calculation combinations\n",
    "params = {\n",
    "    # all features, corresponding only to tissue underneath spot\n",
    "    \"features_orig\": {\n",
    "        \"features\": [\"summary\", \"texture\", \"histogram\"],\n",
    "        \"scale\": 1.0,\n",
    "        \"mask_circle\": True,\n",
    "    },\n",
    "    # summary and histogram features with a bit more context, original resolution\n",
    "    \"features_context\": {\"features\": [\"summary\", \"histogram\"], \"scale\": 1.0},\n",
    "    # summary and histogram features with more context and at lower resolution\n",
    "    \"features_lowres\": {\"features\": [\"summary\", \"histogram\"], \"scale\": 0.25},\n",
    "}\n",
    "\n",
    "for feature_name, cur_params in params.items():\n",
    "    # features will be saved in `adata.obsm[feature_name]`\n",
    "    sq.im.calculate_image_features(\n",
    "        adata, img, layer=\"image\", key_added=feature_name, n_jobs=1, **cur_params\n",
    "    )\n",
    "\n",
    "# combine features in one dataframe\n",
    "adata.obsm[\"features\"] = pd.concat(\n",
    "    [adata.obsm[f] for f in params.keys()], axis=\"columns\"\n",
    ")\n",
    "\n",
    "# make sure that we have no duplicated feature names in the combined table\n",
    "adata.obsm[\"features\"].columns = ad.utils.make_index_unique(\n",
    "    adata.obsm[\"features\"].columns\n",
    ")"
   ]
  },
  {
   "cell_type": "code",
   "execution_count": null,
   "id": "4a7057d0-c358-4f6d-bf4c-3c5fd8a3468e",
   "metadata": {},
   "outputs": [],
   "source": []
  }
 ],
 "metadata": {
  "kernelspec": {
   "display_name": "Python 3 (ipykernel)",
   "language": "python",
   "name": "python3"
  },
  "language_info": {
   "codemirror_mode": {
    "name": "ipython",
    "version": 3
   },
   "file_extension": ".py",
   "mimetype": "text/x-python",
   "name": "python",
   "nbconvert_exporter": "python",
   "pygments_lexer": "ipython3",
   "version": "3.11.8"
  }
 },
 "nbformat": 4,
 "nbformat_minor": 5
}
