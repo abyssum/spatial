{
 "cells": [
  {
   "cell_type": "code",
   "execution_count": null,
   "id": "1938c1a9-48ef-4dd8-82b6-d83ccc073b86",
   "metadata": {},
   "outputs": [],
   "source": [
    "import pandas as pd\n",
    "\n",
    "import matplotlib.pyplot as plt\n",
    "\n",
    "import anndata as ad\n",
    "import scanpy as sc\n",
    "import squidpy as sq\n",
    "\n",
    "sc.logging.print_header()\n",
    "print(f\"squidpy=={sq.__version__}\")\n",
    "\n",
    "# load the pre-processed dataset\n",
    "img = sq.datasets.visium_fluo_image_crop()\n",
    "adata = sq.datasets.visium_fluo_adata_crop()"
   ]
  },
  {
   "cell_type": "code",
   "execution_count": null,
   "id": "dbb4b7df-09c1-44bc-a48c-194bfdc28b74",
   "metadata": {},
   "outputs": [],
   "source": [
    "sq.pl.spatial_scatter(adata, color=\"cluster\")"
   ]
  },
  {
   "cell_type": "code",
   "execution_count": null,
   "id": "ee46587f-f0b6-4d81-a8f1-69d1f8f0d7f4",
   "metadata": {},
   "outputs": [],
   "source": [
    "img.show(channelwise=True)"
   ]
  },
  {
   "cell_type": "markdown",
   "id": "939779ac-0c09-49b5-a4e7-4ff20c0aface",
   "metadata": {},
   "source": [
    "# Image segmentation"
   ]
  },
  {
   "cell_type": "code",
   "execution_count": null,
   "id": "ef1846d5-32a3-49f9-ab3e-d2f35dc0ae1e",
   "metadata": {},
   "outputs": [],
   "source": [
    "sq.im.process(\n",
    "    img=img,\n",
    "    layer=\"image\",\n",
    "    method=\"smooth\",\n",
    ")\n",
    "\n",
    "sq.im.segment(img=img, layer=\"image_smooth\", method=\"watershed\", channel=0, chunks=1000)\n",
    "\n",
    "# plot the resulting segmentation\n",
    "fig, ax = plt.subplots(1, 2)\n",
    "img_crop = img.crop_corner(2000, 2000, size=500)\n",
    "img_crop.show(layer=\"image\", channel=0, ax=ax[0])\n",
    "img_crop.show(\n",
    "    layer=\"segmented_watershed\",\n",
    "    channel=0,\n",
    "    ax=ax[1],\n",
    ")"
   ]
  }
 ],
 "metadata": {
  "kernelspec": {
   "display_name": "Python 3 (ipykernel)",
   "language": "python",
   "name": "python3"
  },
  "language_info": {
   "codemirror_mode": {
    "name": "ipython",
    "version": 3
   },
   "file_extension": ".py",
   "mimetype": "text/x-python",
   "name": "python",
   "nbconvert_exporter": "python",
   "pygments_lexer": "ipython3",
   "version": "3.11.8"
  }
 },
 "nbformat": 4,
 "nbformat_minor": 5
}
