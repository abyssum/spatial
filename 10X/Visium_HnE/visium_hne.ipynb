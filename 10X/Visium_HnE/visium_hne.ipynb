{
 "cells": [
  {
   "cell_type": "code",
   "execution_count": null,
   "id": "ddc990f6-564f-40c9-96c5-9371adc01d11",
   "metadata": {},
   "outputs": [],
   "source": [
    "import numpy as np\n",
    "import pandas as pd\n",
    "\n",
    "import anndata as ad\n",
    "import scanpy as sc\n",
    "import squidpy as sq\n",
    "\n",
    "sc.logging.print_header()\n",
    "print(f\"squidpy=={sq.__version__}\")\n",
    "\n",
    "# load the pre-processed dataset\n",
    "img = sq.datasets.visium_hne_image()\n",
    "adata = sq.datasets.visium_hne_adata()"
   ]
  },
  {
   "cell_type": "code",
   "execution_count": null,
   "id": "230242da-d562-45b9-82a4-fed86d4d9988",
   "metadata": {},
   "outputs": [],
   "source": [
    "sq.pl.spatial_scatter(adata, color=\"cluster\")"
   ]
  },
  {
   "cell_type": "code",
   "execution_count": null,
   "id": "df948bde-b624-4a0e-81f5-1313406acbd1",
   "metadata": {},
   "outputs": [],
   "source": [
    "# Image features"
   ]
  },
  {
   "cell_type": "code",
   "execution_count": null,
   "id": "a7d6e4bc-2720-4fd8-8433-23819c7c0694",
   "metadata": {},
   "outputs": [],
   "source": [
    "# calculate features for different scales (higher value means more context)\n",
    "for scale in [1.0, 2.0]:\n",
    "    feature_name = f\"features_summary_scale{scale}\"\n",
    "    sq.im.calculate_image_features(\n",
    "        adata,\n",
    "        img.compute(),\n",
    "        features=\"summary\",\n",
    "        key_added=feature_name,\n",
    "        n_jobs=4,\n",
    "        scale=scale,\n",
    "    )\n",
    "\n",
    "\n",
    "# combine features in one dataframe\n",
    "adata.obsm[\"features\"] = pd.concat(\n",
    "    [adata.obsm[f] for f in adata.obsm.keys() if \"features_summary\" in f],\n",
    "    axis=\"columns\",\n",
    ")\n",
    "# make sure that we have no duplicated feature names in the combined table\n",
    "adata.obsm[\"features\"].columns = ad.utils.make_index_unique(\n",
    "    adata.obsm[\"features\"].columns\n",
    ")"
   ]
  },
  {
   "cell_type": "code",
   "execution_count": null,
   "id": "7f55cfc8-108f-4c6d-b9f7-82240c369f32",
   "metadata": {},
   "outputs": [],
   "source": [
    "# helper function returning a clustering\n",
    "def cluster_features(features: pd.DataFrame, like=None) -> pd.Series:\n",
    "    \"\"\"\n",
    "    Calculate leiden clustering of features.\n",
    "\n",
    "    Specify filter of features using `like`.\n",
    "    \"\"\"\n",
    "    # filter features\n",
    "    if like is not None:\n",
    "        features = features.filter(like=like)\n",
    "    # create temporary adata to calculate the clustering\n",
    "    adata = ad.AnnData(features)\n",
    "    # important - feature values are not scaled, so need to scale them before PCA\n",
    "    sc.pp.scale(adata)\n",
    "    # calculate leiden clustering\n",
    "    sc.pp.pca(adata, n_comps=min(10, features.shape[1] - 1))\n",
    "    sc.pp.neighbors(adata)\n",
    "    sc.tl.leiden(adata)\n",
    "\n",
    "    return adata.obs[\"leiden\"]\n",
    "\n",
    "\n",
    "# calculate feature clusters\n",
    "adata.obs[\"features_cluster\"] = cluster_features(adata.obsm[\"features\"], like=\"summary\")\n",
    "\n",
    "# compare feature and gene clusters\n",
    "sq.pl.spatial_scatter(adata, color=[\"features_cluster\", \"cluster\"])"
   ]
  },
  {
   "cell_type": "code",
   "execution_count": null,
   "id": "d8bd0798-fab6-4101-91b0-fa93f13ec53a",
   "metadata": {},
   "outputs": [],
   "source": [
    "# Spatial statistics and graph analysis"
   ]
  },
  {
   "cell_type": "code",
   "execution_count": null,
   "id": "60171294-4544-4af4-b4bb-63ff76a60022",
   "metadata": {},
   "outputs": [],
   "source": [
    "sq.gr.spatial_neighbors(adata)\n",
    "sq.gr.nhood_enrichment(adata, cluster_key=\"cluster\")\n",
    "sq.pl.nhood_enrichment(adata, cluster_key=\"cluster\")"
   ]
  },
  {
   "cell_type": "code",
   "execution_count": null,
   "id": "b0954252-e72b-404e-b4d1-9cb2ef81134b",
   "metadata": {},
   "outputs": [],
   "source": [
    "## co-occurance"
   ]
  },
  {
   "cell_type": "code",
   "execution_count": null,
   "id": "254f8fd8-f179-4752-9a8d-9e52a95e0e9e",
   "metadata": {},
   "outputs": [],
   "source": [
    "sq.gr.co_occurrence(adata, cluster_key=\"cluster\")\n",
    "sq.pl.co_occurrence(\n",
    "    adata,\n",
    "    cluster_key=\"cluster\",\n",
    "    clusters=\"Hippocampus\",\n",
    "    figsize=(8, 4),\n",
    ")"
   ]
  },
  {
   "cell_type": "code",
   "execution_count": null,
   "id": "931feca2-3937-4cf2-9dd8-fb44cd5cfac0",
   "metadata": {},
   "outputs": [],
   "source": []
  }
 ],
 "metadata": {
  "kernelspec": {
   "display_name": "",
   "name": ""
  },
  "language_info": {
   "name": ""
  }
 },
 "nbformat": 4,
 "nbformat_minor": 5
}
